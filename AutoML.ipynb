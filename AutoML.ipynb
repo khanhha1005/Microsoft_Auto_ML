{
  "cells": [
    {
      "cell_type": "code",
      "execution_count": 2,
      "metadata": {
        "id": "8xwXuYUzeeQ6"
      },
      "outputs": [
        {
          "name": "stdout",
          "output_type": "stream",
          "text": [
            "/Users/trancatkhanh/Downloads\n"
          ]
        }
      ],
      "source": [
        "%cd /Users/trancatkhanh/Downloads"
      ]
    },
    {
      "attachments": {},
      "cell_type": "markdown",
      "metadata": {},
      "source": [
        "# R2 Score predictions\n"
      ]
    },
    {
      "cell_type": "code",
      "execution_count": 77,
      "metadata": {
        "id": "5Uhdp0s3ekd0"
      },
      "outputs": [],
      "source": [
        "import pandas as pd \n",
        "import numpy as np\n",
        "df1 = pd.read_csv('predictions_R2.csv')\n",
        "#describe df\n"
      ]
    },
    {
      "cell_type": "code",
      "execution_count": 82,
      "metadata": {},
      "outputs": [
        {
          "name": "stdout",
          "output_type": "stream",
          "text": [
            "71719.83433361085\n"
          ]
        }
      ],
      "source": [
        "# print the  different between value in each rows of  Label_orig and Label_predicted\n",
        "print(df1['Label_orig'].sub(df1['Label_predicted'], axis = 0).abs().sum())\n"
      ]
    },
    {
      "attachments": {},
      "cell_type": "markdown",
      "metadata": {},
      "source": [
        "# NMAE Score predictions\n",
        " "
      ]
    },
    {
      "cell_type": "code",
      "execution_count": 72,
      "metadata": {},
      "outputs": [],
      "source": [
        "import pandas as pd \n",
        "import numpy as np\n",
        "df = pd.read_csv('predictions_NMAE.csv')\n",
        "#describe df\n"
      ]
    },
    {
      "cell_type": "code",
      "execution_count": 83,
      "metadata": {},
      "outputs": [
        {
          "name": "stdout",
          "output_type": "stream",
          "text": [
            "69216.50973499192\n"
          ]
        }
      ],
      "source": [
        "# print maximum the precentage different between value in each rows of  Label_orig and Label_predicted\n",
        "print(df['Label_orig'].sub(df['Label_predicted'], axis = 0).abs().sum())\n"
      ]
    },
    {
      "attachments": {},
      "cell_type": "markdown",
      "metadata": {},
      "source": [
        "# NRMSE Score predictions\n"
      ]
    },
    {
      "cell_type": "code",
      "execution_count": 86,
      "metadata": {},
      "outputs": [],
      "source": [
        "import pandas as pd \n",
        "import numpy as np\n",
        "df2 = pd.read_csv('predictions.csv')\n",
        "#describe df\n"
      ]
    },
    {
      "cell_type": "code",
      "execution_count": 88,
      "metadata": {},
      "outputs": [
        {
          "name": "stdout",
          "output_type": "stream",
          "text": [
            "76280.22078397976\n"
          ]
        }
      ],
      "source": [
        "# print maximum the precentage different between value in each rows of  Label_orig and Label_predicted\n",
        "print(df2['Label_orig'].sub(df2['Label_predicted'], axis = 0).abs().sum())\n"
      ]
    },
    {
      "attachments": {},
      "cell_type": "markdown",
      "metadata": {},
      "source": [
        "# Spearman Correlation Score predictions\n"
      ]
    },
    {
      "cell_type": "code",
      "execution_count": null,
      "metadata": {},
      "outputs": [],
      "source": [
        "import pandas as pd \n",
        "import numpy as np\n",
        "df3 = pd.read_csv('predictions.csv')\n",
        "#describe df"
      ]
    },
    {
      "cell_type": "code",
      "execution_count": null,
      "metadata": {},
      "outputs": [],
      "source": [
        "# print maximum the precentage different between value in each rows of  Label_orig and Label_predicted\n",
        "print(df3['Label_orig'].sub(df3['Label_predicted'], axis = 0).abs().sum())\n"
      ]
    }
  ],
  "metadata": {
    "colab": {
      "provenance": []
    },
    "kernelspec": {
      "display_name": "base",
      "language": "python",
      "name": "python3"
    },
    "language_info": {
      "codemirror_mode": {
        "name": "ipython",
        "version": 3
      },
      "file_extension": ".py",
      "mimetype": "text/x-python",
      "name": "python",
      "nbconvert_exporter": "python",
      "pygments_lexer": "ipython3",
      "version": "3.9.7"
    },
    "vscode": {
      "interpreter": {
        "hash": "ff2136a0fe6bc790f1b40d257e6b1bba23119827483ea2b7c12c8cc23c661a47"
      }
    }
  },
  "nbformat": 4,
  "nbformat_minor": 0
}
