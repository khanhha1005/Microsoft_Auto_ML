{
  "cells": [
    {
      "cell_type": "code",
      "execution_count": 2,
      "metadata": {
        "id": "8xwXuYUzeeQ6"
      },
      "outputs": [
        {
          "name": "stdout",
          "output_type": "stream",
          "text": [
            "/Users/trancatkhanh/Downloads\n"
          ]
        }
      ],
      "source": [
        "%cd /Users/trancatkhanh/Downloads"
      ]
    },
    {
      "attachments": {},
      "cell_type": "markdown",
      "metadata": {},
      "source": [
        "# R2 Score predictions\n"
      ]
    },
    {
      "cell_type": "code",
      "execution_count": 4,
      "metadata": {
        "id": "5Uhdp0s3ekd0"
      },
      "outputs": [
        {
          "data": {
            "text/plain": [
              "Index(['x1', 'x2', 'x3', 'x4', 'x5', 'y1', 'y2', 'y3', 'y4', 'y5', 'y6', 'y7',\n",
              "       'z1', 'Label'],\n",
              "      dtype='object')"
            ]
          },
          "execution_count": 4,
          "metadata": {},
          "output_type": "execute_result"
        }
      ],
      "source": [
        "import pandas as pd \n",
        "import numpy as np\n",
        "df1 = pd.read_csv('Data_Supervised_Test (2).csv')\n",
        "#describe df\n",
        "df1.columns"
      ]
    },
    {
      "cell_type": "code",
      "execution_count": 18,
      "metadata": {},
      "outputs": [],
      "source": [
        "df1.head(10)\n",
        "# turn value in column Label to 0\n",
        "df1['Label'] = 0"
      ]
    },
    {
      "cell_type": "code",
      "execution_count": 20,
      "metadata": {},
      "outputs": [],
      "source": [
        "df1.to_csv('test_xin.csv', index=False)"
      ]
    },
    {
      "cell_type": "code",
      "execution_count": 82,
      "metadata": {},
      "outputs": [
        {
          "name": "stdout",
          "output_type": "stream",
          "text": [
            "71719.83433361085\n"
          ]
        }
      ],
      "source": [
        "# print the  different between value in each rows of  Label_orig and Label_predicted\n",
        "print(df1['Label_orig'].sub(df1['Label_predicted'], axis = 0).abs().sum())\n"
      ]
    },
    {
      "attachments": {},
      "cell_type": "markdown",
      "metadata": {},
      "source": [
        "# NMAE Score predictions\n",
        " "
      ]
    },
    {
      "cell_type": "code",
      "execution_count": 27,
      "metadata": {},
      "outputs": [],
      "source": [
        "import pandas as pd \n",
        "import numpy as np\n",
        "df = pd.read_csv('predictions (3).csv')\n",
        "#describe df\n"
      ]
    },
    {
      "cell_type": "code",
      "execution_count": 28,
      "metadata": {},
      "outputs": [
        {
          "name": "stdout",
          "output_type": "stream",
          "text": [
            "11814.019339471703\n",
            "0.16695842982621742\n"
          ]
        }
      ],
      "source": [
        "# print maximum the precentage different between value in each rows of  Label_orig and Label_predicted\n",
        "print(df['Label_orig'].sub(df['Label_predicted'], axis = 0).abs().sum())\n",
        "print(df['Label_orig'].sub(df['Label_predicted'], axis = 0).abs().sum()/df['Label_orig'].sum())\n"
      ]
    },
    {
      "attachments": {},
      "cell_type": "markdown",
      "metadata": {},
      "source": [
        "# NRMSE Score predictions\n"
      ]
    },
    {
      "cell_type": "code",
      "execution_count": 86,
      "metadata": {},
      "outputs": [],
      "source": [
        "import pandas as pd \n",
        "import numpy as np\n",
        "df2 = pd.read_csv('predictions.csv')\n",
        "#describe df\n"
      ]
    },
    {
      "cell_type": "code",
      "execution_count": 88,
      "metadata": {},
      "outputs": [
        {
          "name": "stdout",
          "output_type": "stream",
          "text": [
            "76280.22078397976\n"
          ]
        }
      ],
      "source": [
        "# print maximum the precentage different between value in each rows of  Label_orig and Label_predicted\n",
        "print(df2['Label_orig'].sub(df2['Label_predicted'], axis = 0).abs().sum())\n"
      ]
    },
    {
      "attachments": {},
      "cell_type": "markdown",
      "metadata": {},
      "source": [
        "# Spearman Correlation Score predictions\n"
      ]
    },
    {
      "cell_type": "code",
      "execution_count": 23,
      "metadata": {},
      "outputs": [],
      "source": [
        "import pandas as pd \n",
        "import numpy as np\n",
        "df3 = pd.read_csv('predictions (2).csv')\n",
        "#describe df"
      ]
    },
    {
      "cell_type": "code",
      "execution_count": 29,
      "metadata": {},
      "outputs": [
        {
          "name": "stdout",
          "output_type": "stream",
          "text": [
            "11757.653591793493\n",
            "0.16616185615743287\n",
            "70760.244641547\n"
          ]
        }
      ],
      "source": [
        "# print maximum the precentage different between value in each rows of  Label_orig and Label_predicted\n",
        "print(df3['Label_orig'].sub(df3['Label_predicted'], axis = 0).abs().sum())\n",
        "print(df3['Label_orig'].sub(df3['Label_predicted'], axis = 0).abs().sum()/df3['Label_orig'].sum())\n",
        "# sum all value in Label_orig\n",
        "print(df3['Label_orig'].sum())"
      ]
    }
  ],
  "metadata": {
    "colab": {
      "provenance": []
    },
    "kernelspec": {
      "display_name": "base",
      "language": "python",
      "name": "python3"
    },
    "language_info": {
      "codemirror_mode": {
        "name": "ipython",
        "version": 3
      },
      "file_extension": ".py",
      "mimetype": "text/x-python",
      "name": "python",
      "nbconvert_exporter": "python",
      "pygments_lexer": "ipython3",
      "version": "3.9.7"
    },
    "vscode": {
      "interpreter": {
        "hash": "ff2136a0fe6bc790f1b40d257e6b1bba23119827483ea2b7c12c8cc23c661a47"
      }
    }
  },
  "nbformat": 4,
  "nbformat_minor": 0
}
